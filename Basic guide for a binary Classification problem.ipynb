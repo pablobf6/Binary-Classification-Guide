{
 "cells": [
  {
   "cell_type": "markdown",
   "metadata": {},
   "source": [
    "# GUIDE FOR BINARY CLASSIFICATION PROBLEMS"
   ]
  },
  {
   "cell_type": "markdown",
   "metadata": {},
   "source": [
    "In this notebook I will solve a classification problem with two targets. **The goal for this notebook is to give a idea of the steps we need to follow to solve a binary classification problem** and to show some interesting techniques to do it."
   ]
  },
  {
   "cell_type": "markdown",
   "metadata": {},
   "source": [
    "The problem we will be solving is this:  [Telco Customer Churn](https://www.kaggle.com/blastchar/telco-customer-churn)"
   ]
  },
  {
   "cell_type": "markdown",
   "metadata": {},
   "source": [
    "In this notebook I basically simplify the great work done in the following notebook:\n",
    "* [Telecom Customer Churn Prediction](https://www.kaggle.com/pavanraj159/telecom-customer-churn-prediction/notebook)\n",
    "\n"
   ]
  },
  {
   "cell_type": "markdown",
   "metadata": {},
   "source": [
    "Any comments or suggestions are very welcome."
   ]
  },
  {
   "cell_type": "markdown",
   "metadata": {},
   "source": [
    "Ok, we begin by importing a set of packages we'll be needing:"
   ]
  },
  {
   "cell_type": "code",
   "execution_count": 2,
   "metadata": {},
   "outputs": [],
   "source": [
    "import numpy as np\n",
    "import pandas as pd\n",
    "import seaborn as sns\n",
    "import warnings\n",
    "warnings.filterwarnings(\"ignore\")"
   ]
  },
  {
   "cell_type": "markdown",
   "metadata": {},
   "source": [
    "Importing the data:"
   ]
  },
  {
   "cell_type": "code",
   "execution_count": 4,
   "metadata": {
    "scrolled": true
   },
   "outputs": [
    {
     "data": {
      "text/html": [
       "<div>\n",
       "<style scoped>\n",
       "    .dataframe tbody tr th:only-of-type {\n",
       "        vertical-align: middle;\n",
       "    }\n",
       "\n",
       "    .dataframe tbody tr th {\n",
       "        vertical-align: top;\n",
       "    }\n",
       "\n",
       "    .dataframe thead th {\n",
       "        text-align: right;\n",
       "    }\n",
       "</style>\n",
       "<table border=\"1\" class=\"dataframe\">\n",
       "  <thead>\n",
       "    <tr style=\"text-align: right;\">\n",
       "      <th></th>\n",
       "      <th>customerID</th>\n",
       "      <th>gender</th>\n",
       "      <th>SeniorCitizen</th>\n",
       "      <th>Partner</th>\n",
       "      <th>Dependents</th>\n",
       "      <th>tenure</th>\n",
       "      <th>PhoneService</th>\n",
       "      <th>MultipleLines</th>\n",
       "      <th>InternetService</th>\n",
       "      <th>OnlineSecurity</th>\n",
       "      <th>...</th>\n",
       "      <th>DeviceProtection</th>\n",
       "      <th>TechSupport</th>\n",
       "      <th>StreamingTV</th>\n",
       "      <th>StreamingMovies</th>\n",
       "      <th>Contract</th>\n",
       "      <th>PaperlessBilling</th>\n",
       "      <th>PaymentMethod</th>\n",
       "      <th>MonthlyCharges</th>\n",
       "      <th>TotalCharges</th>\n",
       "      <th>Churn</th>\n",
       "    </tr>\n",
       "  </thead>\n",
       "  <tbody>\n",
       "    <tr>\n",
       "      <th>0</th>\n",
       "      <td>7590-VHVEG</td>\n",
       "      <td>Female</td>\n",
       "      <td>0</td>\n",
       "      <td>Yes</td>\n",
       "      <td>No</td>\n",
       "      <td>1</td>\n",
       "      <td>No</td>\n",
       "      <td>No phone service</td>\n",
       "      <td>DSL</td>\n",
       "      <td>No</td>\n",
       "      <td>...</td>\n",
       "      <td>No</td>\n",
       "      <td>No</td>\n",
       "      <td>No</td>\n",
       "      <td>No</td>\n",
       "      <td>Month-to-month</td>\n",
       "      <td>Yes</td>\n",
       "      <td>Electronic check</td>\n",
       "      <td>29.85</td>\n",
       "      <td>29.85</td>\n",
       "      <td>No</td>\n",
       "    </tr>\n",
       "    <tr>\n",
       "      <th>1</th>\n",
       "      <td>5575-GNVDE</td>\n",
       "      <td>Male</td>\n",
       "      <td>0</td>\n",
       "      <td>No</td>\n",
       "      <td>No</td>\n",
       "      <td>34</td>\n",
       "      <td>Yes</td>\n",
       "      <td>No</td>\n",
       "      <td>DSL</td>\n",
       "      <td>Yes</td>\n",
       "      <td>...</td>\n",
       "      <td>Yes</td>\n",
       "      <td>No</td>\n",
       "      <td>No</td>\n",
       "      <td>No</td>\n",
       "      <td>One year</td>\n",
       "      <td>No</td>\n",
       "      <td>Mailed check</td>\n",
       "      <td>56.95</td>\n",
       "      <td>1889.5</td>\n",
       "      <td>No</td>\n",
       "    </tr>\n",
       "    <tr>\n",
       "      <th>2</th>\n",
       "      <td>3668-QPYBK</td>\n",
       "      <td>Male</td>\n",
       "      <td>0</td>\n",
       "      <td>No</td>\n",
       "      <td>No</td>\n",
       "      <td>2</td>\n",
       "      <td>Yes</td>\n",
       "      <td>No</td>\n",
       "      <td>DSL</td>\n",
       "      <td>Yes</td>\n",
       "      <td>...</td>\n",
       "      <td>No</td>\n",
       "      <td>No</td>\n",
       "      <td>No</td>\n",
       "      <td>No</td>\n",
       "      <td>Month-to-month</td>\n",
       "      <td>Yes</td>\n",
       "      <td>Mailed check</td>\n",
       "      <td>53.85</td>\n",
       "      <td>108.15</td>\n",
       "      <td>Yes</td>\n",
       "    </tr>\n",
       "    <tr>\n",
       "      <th>3</th>\n",
       "      <td>7795-CFOCW</td>\n",
       "      <td>Male</td>\n",
       "      <td>0</td>\n",
       "      <td>No</td>\n",
       "      <td>No</td>\n",
       "      <td>45</td>\n",
       "      <td>No</td>\n",
       "      <td>No phone service</td>\n",
       "      <td>DSL</td>\n",
       "      <td>Yes</td>\n",
       "      <td>...</td>\n",
       "      <td>Yes</td>\n",
       "      <td>Yes</td>\n",
       "      <td>No</td>\n",
       "      <td>No</td>\n",
       "      <td>One year</td>\n",
       "      <td>No</td>\n",
       "      <td>Bank transfer (automatic)</td>\n",
       "      <td>42.30</td>\n",
       "      <td>1840.75</td>\n",
       "      <td>No</td>\n",
       "    </tr>\n",
       "    <tr>\n",
       "      <th>4</th>\n",
       "      <td>9237-HQITU</td>\n",
       "      <td>Female</td>\n",
       "      <td>0</td>\n",
       "      <td>No</td>\n",
       "      <td>No</td>\n",
       "      <td>2</td>\n",
       "      <td>Yes</td>\n",
       "      <td>No</td>\n",
       "      <td>Fiber optic</td>\n",
       "      <td>No</td>\n",
       "      <td>...</td>\n",
       "      <td>No</td>\n",
       "      <td>No</td>\n",
       "      <td>No</td>\n",
       "      <td>No</td>\n",
       "      <td>Month-to-month</td>\n",
       "      <td>Yes</td>\n",
       "      <td>Electronic check</td>\n",
       "      <td>70.70</td>\n",
       "      <td>151.65</td>\n",
       "      <td>Yes</td>\n",
       "    </tr>\n",
       "  </tbody>\n",
       "</table>\n",
       "<p>5 rows × 21 columns</p>\n",
       "</div>"
      ],
      "text/plain": [
       "   customerID  gender  SeniorCitizen Partner Dependents  tenure PhoneService  \\\n",
       "0  7590-VHVEG  Female              0     Yes         No       1           No   \n",
       "1  5575-GNVDE    Male              0      No         No      34          Yes   \n",
       "2  3668-QPYBK    Male              0      No         No       2          Yes   \n",
       "3  7795-CFOCW    Male              0      No         No      45           No   \n",
       "4  9237-HQITU  Female              0      No         No       2          Yes   \n",
       "\n",
       "      MultipleLines InternetService OnlineSecurity  ... DeviceProtection  \\\n",
       "0  No phone service             DSL             No  ...               No   \n",
       "1                No             DSL            Yes  ...              Yes   \n",
       "2                No             DSL            Yes  ...               No   \n",
       "3  No phone service             DSL            Yes  ...              Yes   \n",
       "4                No     Fiber optic             No  ...               No   \n",
       "\n",
       "  TechSupport StreamingTV StreamingMovies        Contract PaperlessBilling  \\\n",
       "0          No          No              No  Month-to-month              Yes   \n",
       "1          No          No              No        One year               No   \n",
       "2          No          No              No  Month-to-month              Yes   \n",
       "3         Yes          No              No        One year               No   \n",
       "4          No          No              No  Month-to-month              Yes   \n",
       "\n",
       "               PaymentMethod MonthlyCharges  TotalCharges Churn  \n",
       "0           Electronic check          29.85         29.85    No  \n",
       "1               Mailed check          56.95        1889.5    No  \n",
       "2               Mailed check          53.85        108.15   Yes  \n",
       "3  Bank transfer (automatic)          42.30       1840.75    No  \n",
       "4           Electronic check          70.70        151.65   Yes  \n",
       "\n",
       "[5 rows x 21 columns]"
      ]
     },
     "execution_count": 4,
     "metadata": {},
     "output_type": "execute_result"
    }
   ],
   "source": [
    "df = pd.read_csv('/home/pablo/Escritorio/Postgrado_UB/Problemas Kaggle/Plantillas/CLASIFICACIÓN BINARIA/datos/raw_data_telco.csv')\n",
    "df.head()"
   ]
  },
  {
   "cell_type": "markdown",
   "metadata": {},
   "source": [
    "## STEP 0 : EXPLORATORY DATA ANALYSIS (EDA)"
   ]
  },
  {
   "cell_type": "markdown",
   "metadata": {},
   "source": [
    "First of all, let's take a look a our data."
   ]
  },
  {
   "cell_type": "code",
   "execution_count": 5,
   "metadata": {
    "scrolled": true
   },
   "outputs": [
    {
     "name": "stdout",
     "output_type": "stream",
     "text": [
      "ROWS:  7043\n",
      "COLUMNS:  21\n",
      "nombre columnas:  ['customerID', 'gender', 'SeniorCitizen', 'Partner', 'Dependents', 'tenure', 'PhoneService', 'MultipleLines', 'InternetService', 'OnlineSecurity', 'OnlineBackup', 'DeviceProtection', 'TechSupport', 'StreamingTV', 'StreamingMovies', 'Contract', 'PaperlessBilling', 'PaymentMethod', 'MonthlyCharges', 'TotalCharges', 'Churn']\n",
      "valores únicos por columna:  customerID          7043\n",
      "gender                 2\n",
      "SeniorCitizen          2\n",
      "Partner                2\n",
      "Dependents             2\n",
      "tenure                73\n",
      "PhoneService           2\n",
      "MultipleLines          3\n",
      "InternetService        3\n",
      "OnlineSecurity         3\n",
      "OnlineBackup           3\n",
      "DeviceProtection       3\n",
      "TechSupport            3\n",
      "StreamingTV            3\n",
      "StreamingMovies        3\n",
      "Contract               3\n",
      "PaperlessBilling       2\n",
      "PaymentMethod          4\n",
      "MonthlyCharges      1585\n",
      "TotalCharges        6531\n",
      "Churn                  2\n",
      "dtype: int64\n",
      "missing values:  [0 0 0 0 0 0 0 0 0 0 0 0 0 0 0 0 0 0 0 0 0]\n",
      "tipo de columnas:  customerID           object\n",
      "gender               object\n",
      "SeniorCitizen         int64\n",
      "Partner              object\n",
      "Dependents           object\n",
      "tenure                int64\n",
      "PhoneService         object\n",
      "MultipleLines        object\n",
      "InternetService      object\n",
      "OnlineSecurity       object\n",
      "OnlineBackup         object\n",
      "DeviceProtection     object\n",
      "TechSupport          object\n",
      "StreamingTV          object\n",
      "StreamingMovies      object\n",
      "Contract             object\n",
      "PaperlessBilling     object\n",
      "PaymentMethod        object\n",
      "MonthlyCharges      float64\n",
      "TotalCharges         object\n",
      "Churn                object\n",
      "dtype: object\n",
      "0484-JPBRU    1\n",
      "0191-ZHSKZ    1\n",
      "4439-JMPMT    1\n",
      "0697-ZMSWS    1\n",
      "7716-YTYHG    1\n",
      "6609-MXJHJ    1\n",
      "9661-JALZV    1\n",
      "6766-HFKLA    1\n",
      "3129-AAQOU    1\n",
      "2135-RXIHG    1\n",
      "3295-YVUSR    1\n",
      "2243-FNMMI    1\n",
      "4706-DGAHW    1\n",
      "5781-RFZRP    1\n",
      "0319-QZTCO    1\n",
      "2560-QTSBS    1\n",
      "6614-YWYSC    1\n",
      "8050-XGRVL    1\n",
      "1840-BIUOG    1\n",
      "6484-LATFU    1\n",
      "5519-YLDGW    1\n",
      "4826-TZEVA    1\n",
      "3488-PGMQJ    1\n",
      "5419-KLXBN    1\n",
      "3729-OWRVL    1\n",
      "2958-NHPPS    1\n",
      "3521-SYVOR    1\n",
      "1112-CUNAO    1\n",
      "8869-TORSS    1\n",
      "3508-VLHCZ    1\n",
      "             ..\n",
      "6522-OIQSX    1\n",
      "0585-EGDDA    1\n",
      "0708-SJDIS    1\n",
      "7976-CICYS    1\n",
      "8158-WPEZG    1\n",
      "5928-QLDHB    1\n",
      "2746-DIJLO    1\n",
      "0058-EVZWM    1\n",
      "0019-GFNTW    1\n",
      "5671-UUNXD    1\n",
      "5016-ETTFF    1\n",
      "7504-UWHNB    1\n",
      "8769-KKTPH    1\n",
      "9795-VOWON    1\n",
      "4079-ULGFR    1\n",
      "7156-MHUGY    1\n",
      "2079-FBMZK    1\n",
      "3900-AQPHZ    1\n",
      "4729-XKASR    1\n",
      "4851-BQDNX    1\n",
      "4316-XCSLJ    1\n",
      "1871-MOWRM    1\n",
      "3957-SQXML    1\n",
      "6968-URWQU    1\n",
      "3866-MDTUB    1\n",
      "7328-ZJAJO    1\n",
      "5049-GLYVG    1\n",
      "5325-UWTWJ    1\n",
      "1268-ASBGA    1\n",
      "4385-ZKVNW    1\n",
      "Name: customerID, Length: 7043, dtype: int64\n",
      "Male      3555\n",
      "Female    3488\n",
      "Name: gender, dtype: int64\n",
      "No     3641\n",
      "Yes    3402\n",
      "Name: Partner, dtype: int64\n",
      "No     4933\n",
      "Yes    2110\n",
      "Name: Dependents, dtype: int64\n",
      "Yes    6361\n",
      "No      682\n",
      "Name: PhoneService, dtype: int64\n",
      "No                  3390\n",
      "Yes                 2971\n",
      "No phone service     682\n",
      "Name: MultipleLines, dtype: int64\n",
      "Fiber optic    3096\n",
      "DSL            2421\n",
      "No             1526\n",
      "Name: InternetService, dtype: int64\n",
      "No                     3498\n",
      "Yes                    2019\n",
      "No internet service    1526\n",
      "Name: OnlineSecurity, dtype: int64\n",
      "No                     3088\n",
      "Yes                    2429\n",
      "No internet service    1526\n",
      "Name: OnlineBackup, dtype: int64\n",
      "No                     3095\n",
      "Yes                    2422\n",
      "No internet service    1526\n",
      "Name: DeviceProtection, dtype: int64\n",
      "No                     3473\n",
      "Yes                    2044\n",
      "No internet service    1526\n",
      "Name: TechSupport, dtype: int64\n",
      "No                     2810\n",
      "Yes                    2707\n",
      "No internet service    1526\n",
      "Name: StreamingTV, dtype: int64\n",
      "No                     2785\n",
      "Yes                    2732\n",
      "No internet service    1526\n",
      "Name: StreamingMovies, dtype: int64\n",
      "Month-to-month    3875\n",
      "Two year          1695\n",
      "One year          1473\n",
      "Name: Contract, dtype: int64\n",
      "Yes    4171\n",
      "No     2872\n",
      "Name: PaperlessBilling, dtype: int64\n",
      "Electronic check             2365\n",
      "Mailed check                 1612\n",
      "Bank transfer (automatic)    1544\n",
      "Credit card (automatic)      1522\n",
      "Name: PaymentMethod, dtype: int64\n",
      "20.2       11\n",
      "           11\n",
      "19.75       9\n",
      "20.05       8\n",
      "19.9        8\n",
      "19.65       8\n",
      "19.55       7\n",
      "45.3        7\n",
      "19.45       6\n",
      "20.15       6\n",
      "20.25       6\n",
      "20.45       5\n",
      "20.3        5\n",
      "69.6        4\n",
      "49.9        4\n",
      "19.95       4\n",
      "19.4        4\n",
      "74.7        4\n",
      "50.15       4\n",
      "20.4        4\n",
      "19.2        4\n",
      "69.95       4\n",
      "19.85       4\n",
      "44          4\n",
      "44.4        4\n",
      "69.9        4\n",
      "20.5        4\n",
      "19.5        4\n",
      "69.65       4\n",
      "20.35       4\n",
      "           ..\n",
      "797.1       1\n",
      "5431.9      1\n",
      "762.5       1\n",
      "355.9       1\n",
      "265.8       1\n",
      "6652.45     1\n",
      "5538.8      1\n",
      "6292.7      1\n",
      "3707.6      1\n",
      "270.15      1\n",
      "359.4       1\n",
      "2624.25     1\n",
      "865         1\n",
      "901.25      1\n",
      "595.5       1\n",
      "4509.5      1\n",
      "154.65      1\n",
      "692.55      1\n",
      "3970.4      1\n",
      "222.65      1\n",
      "2193.65     1\n",
      "5867        1\n",
      "7711.45     1\n",
      "2623.65     1\n",
      "6689        1\n",
      "2427.1      1\n",
      "1219.85     1\n",
      "1096.6      1\n",
      "7118.9      1\n",
      "3162.65     1\n",
      "Name: TotalCharges, Length: 6531, dtype: int64\n",
      "No     5174\n",
      "Yes    1869\n",
      "Name: Churn, dtype: int64\n"
     ]
    }
   ],
   "source": [
    "print('ROWS: ', df.shape[0])\n",
    "print('COLUMNS: ', df.shape[1])\n",
    "print('nombre columnas: ', df.columns.tolist())\n",
    "print('valores únicos por columna: ', df.nunique())\n",
    "print('missing values: ', df.isnull().sum().values)\n",
    "print('tipo de columnas: ',df.dtypes)\n",
    "\n",
    "data_cat = df.select_dtypes('object').columns.tolist()\n",
    "for i in data_cat:\n",
    "    print(df[i].value_counts())"
   ]
  },
  {
   "cell_type": "markdown",
   "metadata": {},
   "source": [
    "Quick look at the numbers of the target variable **'Churn'**"
   ]
  },
  {
   "cell_type": "code",
   "execution_count": 28,
   "metadata": {},
   "outputs": [
    {
     "data": {
      "text/plain": [
       "0    5174\n",
       "1    1869\n",
       "Name: Churn, dtype: int64"
      ]
     },
     "execution_count": 28,
     "metadata": {},
     "output_type": "execute_result"
    }
   ],
   "source": [
    "df['Churn'].value_counts()"
   ]
  },
  {
   "cell_type": "markdown",
   "metadata": {},
   "source": [
    "We can already see some little transformations we can make, so before we do any exploratory analysis, let's get them out of the way.\n",
    "Apparently we don't have any missing data, but there are some columns that are not of the right type. **'SeniorCitizen'** should be an 'object' and **'TotalCharges'** a 'float'. Let's apply this and other transformations that seem appropriate:"
   ]
  },
  {
   "cell_type": "code",
   "execution_count": 6,
   "metadata": {},
   "outputs": [],
   "source": [
    "df['TotalCharges']=df['TotalCharges'].replace(' ',np.nan)\n",
    "df['TotalCharges']=df['TotalCharges'].astype(float)\n",
    "df['TotalCharges']=df['TotalCharges'].fillna(df['TotalCharges'].mean())\n",
    "\n",
    "nointernet_cols = ['OnlineSecurity','OnlineBackup','DeviceProtection','TechSupport','StreamingTV','StreamingMovies']\n",
    "for i in nointernet_cols:\n",
    "    df[i]=df[i].replace('No internet service','No')\n",
    "\n",
    "df['MultipleLines']=df['MultipleLines'].replace('No phone service','No')\n",
    "\n",
    "df[\"SeniorCitizen\"] = df[\"SeniorCitizen\"].replace({1:\"Yes\",0:\"No\"})\n",
    "\n",
    "#We will use the numeric variable tenure for the model, but in order to have some insights we create this segment.\n",
    "def tenure_tramo(df):\n",
    "    if df['tenure'] <=12:\n",
    "        return 'Tenure_0-12'\n",
    "    elif (df['tenure']>12) & (df['tenure'] <= 24) :\n",
    "        return 'Tenure_12-24'\n",
    "    elif (df['tenure'] > 24) & (df['tenure'] <= 48) :\n",
    "        return 'Tenure_24-48'\n",
    "    elif (df['tenure'] > 48) & (df['tenure'] <= 60) :\n",
    "        return 'Tenure_48-60'\n",
    "    elif df['tenure'] > 60 :\n",
    "        return 'Tenure_gt_60'\n",
    "    \n",
    "df['tenure_group'] = df.apply(lambda df:tenure_tramo(df),axis = 1)"
   ]
  },
  {
   "cell_type": "markdown",
   "metadata": {},
   "source": [
    "Let's take a look at how **categorical variables** plot when we compare churn and non-churn customers:"
   ]
  },
  {
   "cell_type": "code",
   "execution_count": 9,
   "metadata": {},
   "outputs": [],
   "source": [
    "from plotly.offline import plot \n",
    "import plotly.graph_objs as go\n",
    "\n",
    "\n",
    "#piechart function\n",
    "def piecharts (columna):\n",
    "    trace_churn = go.Pie(labels = churn[columna].value_counts().keys().tolist() ,\n",
    "               values = churn[columna].value_counts().values.tolist() ,\n",
    "               marker = dict(colors =  [ 'royalblue' ,'lime'],\n",
    "                             line = dict(color = \"white\",\n",
    "                                         width =  3.6)\n",
    "                            ),\n",
    "               rotation = 90,\n",
    "               hoverinfo = \"label+value+text\",\n",
    "               domain  = dict(x = [0,.48]),\n",
    "               name= \"Churn customers\",\n",
    "               hole = .7\n",
    "              )\n",
    "\n",
    "    trace_nochurn = go.Pie(labels = no_churn[columna].value_counts().keys().tolist() ,\n",
    "               values = no_churn[columna].value_counts().values.tolist() ,\n",
    "               marker = dict(colors =  [ 'royalblue' ,'lime'],\n",
    "                             line = dict(color = \"white\",\n",
    "                                         width =  3.6)\n",
    "                            ),\n",
    "               rotation = 90,\n",
    "               hoverinfo = \"label+value+text\",\n",
    "               domain  = dict(x = [0.52,1]),\n",
    "               name= \"Non Churn customers\",\n",
    "               hole = .7\n",
    "              )\n",
    "                             \n",
    "    layout = go.Layout(dict(title = columna + \" distribution\",\n",
    "                            plot_bgcolor  = \"rgb(243,243,243)\",\n",
    "                            paper_bgcolor = \"rgb(243,243,243)\",\n",
    "                            annotations = [dict(text = \"churn customers\",\n",
    "                                                font = dict(size = 20),\n",
    "                                                showarrow = False,\n",
    "                                                x = .17, y = .5),\n",
    "                                           dict(text = \"Non churn customers\",\n",
    "                                                font = dict(size = 20),\n",
    "                                                showarrow = False,\n",
    "                                                x = .85,y = .5\n",
    "                                               )\n",
    "                                          ]\n",
    "                           )\n",
    "                      )\n",
    "\n",
    "    data = [trace_churn,trace_nochurn]\n",
    "    fig = go.Figure(data = data,layout = layout)\n",
    "    plot(fig)"
   ]
  },
  {
   "cell_type": "code",
   "execution_count": null,
   "metadata": {},
   "outputs": [],
   "source": [
    "churn=df[df['Churn']=='Yes']\n",
    "no_churn=df[df['Churn']=='No']"
   ]
  },
  {
   "cell_type": "code",
   "execution_count": null,
   "metadata": {},
   "outputs": [],
   "source": [
    "data_cat = df.select_dtypes('object').columns.tolist()\n",
    "data_cat = [x for x in data_cat if x not in 'customerID']"
   ]
  },
  {
   "cell_type": "code",
   "execution_count": 12,
   "metadata": {},
   "outputs": [],
   "source": [
    "for i in data_cat:\n",
    "    piecharts(i)"
   ]
  },
  {
   "cell_type": "markdown",
   "metadata": {},
   "source": [
    "Let's take a look at how **numerical variables** plot when we compare churn and non-churn customers:"
   ]
  },
  {
   "cell_type": "code",
   "execution_count": 16,
   "metadata": {},
   "outputs": [],
   "source": [
    "#plot numerical variables\n",
    "def HISTO (columna):\n",
    "    trace_churn = go.Histogram(x = churn[columna] ,\n",
    "               histnorm = \"percent\",\n",
    "               marker = dict(line = dict(color = \"black\",\n",
    "                                         width =  0.6)\n",
    "                            ),\n",
    "               name= \"Churn customers\",\n",
    "               opacity = .9\n",
    "              )\n",
    "\n",
    "    trace_nochurn = go.Histogram(x = no_churn[columna] ,\n",
    "               histnorm = \"percent\",\n",
    "               marker = dict(line = dict(color = \"black\",\n",
    "                                         width =  0.6)\n",
    "                            ),\n",
    "               name= \"Non churn customers\",\n",
    "               opacity = .9\n",
    "              )\n",
    "                             \n",
    "    layout = go.Layout(dict(title = columna + \" distribution\",\n",
    "                            plot_bgcolor  = \"rgb(243,243,243)\",\n",
    "                            paper_bgcolor = \"rgb(243,243,243)\",\n",
    "                            xaxis = dict(gridcolor = 'rgb(255, 255, 255)',\n",
    "                                             title = columna,\n",
    "                                             zerolinewidth=1,\n",
    "                                             ticklen=5,\n",
    "                                             gridwidth=2\n",
    "                                            ),\n",
    "                            yaxis = dict(gridcolor = 'rgb(255, 255, 255)',\n",
    "                                             title = \"percent\",\n",
    "                                             zerolinewidth=1,\n",
    "                                             ticklen=5,\n",
    "                                             gridwidth=2\n",
    "                                            ),\n",
    "                           )\n",
    "                      )\n",
    "\n",
    "    data = [trace_churn,trace_nochurn]\n",
    "    fig = go.Figure(data = data,layout = layout)\n",
    "    plot(fig)"
   ]
  },
  {
   "cell_type": "code",
   "execution_count": 17,
   "metadata": {},
   "outputs": [],
   "source": [
    "data_num =  df.select_dtypes(['int64','float64']).columns.tolist()\n",
    "for i in data_num:\n",
    "    HISTO(i)"
   ]
  },
  {
   "cell_type": "markdown",
   "metadata": {},
   "source": [
    "Let's get an idea of what the **distribution of our numerical variables** looks like:"
   ]
  },
  {
   "cell_type": "code",
   "execution_count": 19,
   "metadata": {},
   "outputs": [
    {
     "data": {
      "text/html": [
       "<div>\n",
       "<style scoped>\n",
       "    .dataframe tbody tr th:only-of-type {\n",
       "        vertical-align: middle;\n",
       "    }\n",
       "\n",
       "    .dataframe tbody tr th {\n",
       "        vertical-align: top;\n",
       "    }\n",
       "\n",
       "    .dataframe thead th {\n",
       "        text-align: right;\n",
       "    }\n",
       "</style>\n",
       "<table border=\"1\" class=\"dataframe\">\n",
       "  <thead>\n",
       "    <tr style=\"text-align: right;\">\n",
       "      <th></th>\n",
       "      <th>count</th>\n",
       "      <th>mean</th>\n",
       "      <th>std</th>\n",
       "      <th>min</th>\n",
       "      <th>25%</th>\n",
       "      <th>50%</th>\n",
       "      <th>75%</th>\n",
       "      <th>max</th>\n",
       "    </tr>\n",
       "  </thead>\n",
       "  <tbody>\n",
       "    <tr>\n",
       "      <th>tenure</th>\n",
       "      <td>7043.0</td>\n",
       "      <td>32.371149</td>\n",
       "      <td>24.559481</td>\n",
       "      <td>0.00</td>\n",
       "      <td>9.000</td>\n",
       "      <td>29.00</td>\n",
       "      <td>55.00</td>\n",
       "      <td>72.00</td>\n",
       "    </tr>\n",
       "    <tr>\n",
       "      <th>MonthlyCharges</th>\n",
       "      <td>7043.0</td>\n",
       "      <td>64.761692</td>\n",
       "      <td>30.090047</td>\n",
       "      <td>18.25</td>\n",
       "      <td>35.500</td>\n",
       "      <td>70.35</td>\n",
       "      <td>89.85</td>\n",
       "      <td>118.75</td>\n",
       "    </tr>\n",
       "    <tr>\n",
       "      <th>TotalCharges</th>\n",
       "      <td>7043.0</td>\n",
       "      <td>2283.300441</td>\n",
       "      <td>2265.000258</td>\n",
       "      <td>18.80</td>\n",
       "      <td>402.225</td>\n",
       "      <td>1400.55</td>\n",
       "      <td>3786.60</td>\n",
       "      <td>8684.80</td>\n",
       "    </tr>\n",
       "  </tbody>\n",
       "</table>\n",
       "</div>"
      ],
      "text/plain": [
       "                 count         mean          std    min      25%      50%  \\\n",
       "tenure          7043.0    32.371149    24.559481   0.00    9.000    29.00   \n",
       "MonthlyCharges  7043.0    64.761692    30.090047  18.25   35.500    70.35   \n",
       "TotalCharges    7043.0  2283.300441  2265.000258  18.80  402.225  1400.55   \n",
       "\n",
       "                    75%      max  \n",
       "tenure            55.00    72.00  \n",
       "MonthlyCharges    89.85   118.75  \n",
       "TotalCharges    3786.60  8684.80  "
      ]
     },
     "execution_count": 19,
     "metadata": {},
     "output_type": "execute_result"
    }
   ],
   "source": [
    "df[data_num].describe().T"
   ]
  },
  {
   "cell_type": "markdown",
   "metadata": {},
   "source": [
    "## STEP 1 : DATA PREPROCESSING"
   ]
  },
  {
   "cell_type": "code",
   "execution_count": 20,
   "metadata": {},
   "outputs": [],
   "source": [
    "df=df.drop('customerID',axis=1)\n",
    "\n",
    "target_col=['Churn']\n",
    " \n",
    "data_num =  df.select_dtypes(['int64','float64']).columns.tolist()\n",
    "data_cat = df.select_dtypes(['object']).columns.tolist()"
   ]
  },
  {
   "cell_type": "markdown",
   "metadata": {},
   "source": [
    "* **First transformation:** Normalizing numeric variables"
   ]
  },
  {
   "cell_type": "code",
   "execution_count": 21,
   "metadata": {},
   "outputs": [],
   "source": [
    "from sklearn.preprocessing import LabelEncoder\n",
    "from sklearn.preprocessing import StandardScaler\n",
    "\n",
    "std=StandardScaler()\n",
    "scaled=std.fit_transform(df[data_num])\n",
    "scaled=pd.DataFrame(scaled,columns=data_num)\n",
    "\n",
    "df_original=df.copy()\n",
    "df=df.drop(data_num,axis=1)\n",
    "\n",
    "df=df.merge(scaled,left_index=True,right_index=True,how='left')"
   ]
  },
  {
   "cell_type": "markdown",
   "metadata": {},
   "source": [
    "* **Second transformation:** Encoding categorical variables"
   ]
  },
  {
   "cell_type": "code",
   "execution_count": null,
   "metadata": {},
   "outputs": [],
   "source": [
    "le=LabelEncoder()\n",
    "for i in data_cat:\n",
    "    df[i]=le.fit_transform(df[i])   \n",
    "                                                                    \n",
    "df=pd.get_dummies(data=df,columns=data_cat,drop_first=True)"
   ]
  },
  {
   "cell_type": "code",
   "execution_count": 22,
   "metadata": {},
   "outputs": [],
   "source": [
    "df['Churn']=df['Churn_1']\n",
    "df=df.drop('Churn_1',axis=1)"
   ]
  },
  {
   "cell_type": "markdown",
   "metadata": {},
   "source": [
    "## STEP 2 : MODELLING"
   ]
  },
  {
   "cell_type": "code",
   "execution_count": 23,
   "metadata": {},
   "outputs": [],
   "source": [
    "from sklearn.model_selection import train_test_split\n",
    "from sklearn.metrics import confusion_matrix,accuracy_score,classification_report\n",
    "from sklearn.metrics import roc_auc_score,roc_curve\n",
    "from sklearn.metrics import f1_score\n",
    "from sklearn.metrics import precision_score,recall_score\n",
    "from yellowbrick.classifier import DiscriminationThreshold"
   ]
  },
  {
   "cell_type": "code",
   "execution_count": 24,
   "metadata": {},
   "outputs": [],
   "source": [
    "train,test=train_test_split(df,test_size=.25, random_state =111)\n",
    "\n",
    "cols    = [i for i in df.columns if i not in target_col]\n",
    "\n",
    "train_X = train[cols]\n",
    "train_Y = train[target_col]\n",
    "test_X  = test[cols]\n",
    "test_Y  = test[target_col]"
   ]
  },
  {
   "cell_type": "markdown",
   "metadata": {},
   "source": [
    "Since we've seen that the number of customers that churned (1.869) is significantly higher than the number of non-churned (5.174) . **We are going to use smote to oversample the churned class** "
   ]
  },
  {
   "cell_type": "code",
   "execution_count": 25,
   "metadata": {},
   "outputs": [],
   "source": [
    "from imblearn.over_sampling import SMOTE\n",
    "\n",
    "os_smote = SMOTE(random_state = 0)\n",
    "train_X_smote,train_Y_smote = os_smote.fit_sample(train_X,train_Y)\n",
    "train_X_smote = pd.DataFrame(data = train_X_smote,columns=cols)\n",
    "train_Y_smote = pd.DataFrame(data = train_Y_smote,columns=target_col)"
   ]
  },
  {
   "cell_type": "markdown",
   "metadata": {},
   "source": [
    "### Models"
   ]
  },
  {
   "cell_type": "code",
   "execution_count": 29,
   "metadata": {},
   "outputs": [],
   "source": [
    "from sklearn.metrics import cohen_kappa_score\n",
    "\n",
    "from sklearn.linear_model import LogisticRegression\n",
    "from sklearn.tree import DecisionTreeClassifier\n",
    "from sklearn.neighbors import KNeighborsClassifier\n",
    "from sklearn.ensemble import RandomForestClassifier\n",
    "from sklearn.naive_bayes import GaussianNB\n",
    "from sklearn.svm import SVC\n",
    "from lightgbm import LGBMClassifier\n",
    "from xgboost import XGBClassifier"
   ]
  },
  {
   "cell_type": "code",
   "execution_count": 35,
   "metadata": {
    "scrolled": false
   },
   "outputs": [],
   "source": [
    "logit = LogisticRegression(C=1.0, class_weight=None, dual=False, fit_intercept=True,\n",
    "          intercept_scaling=1, max_iter=100, multi_class='ovr', n_jobs=1,\n",
    "          penalty='l2', random_state=None, solver='liblinear', tol=0.0001,\n",
    "          verbose=0, warm_start=False)\n",
    "\n",
    "dt_classifier = DecisionTreeClassifier()\n",
    "\n",
    "knn = KNeighborsClassifier(algorithm='auto', leaf_size=30, metric='minkowski',\n",
    "           metric_params=None, n_jobs=1, n_neighbors=5, p=2,\n",
    "           weights='uniform')\n",
    "\n",
    "rfc   = RandomForestClassifier()\n",
    "\n",
    "gnb = GaussianNB(priors=None)\n",
    "\n",
    "svc_lin  = SVC(C=1.0, cache_size=200, class_weight=None, coef0=0.0,\n",
    "               decision_function_shape='ovr', degree=3, gamma=1.0, kernel='linear',\n",
    "               max_iter=-1, probability=True, random_state=None, shrinking=True,\n",
    "               tol=0.001, verbose=False)\n",
    "\n",
    "svc_rbf  = SVC(C=1.0, kernel='rbf', \n",
    "               degree= 3, gamma=1.0, \n",
    "               coef0=0.0, shrinking=True,\n",
    "               probability=True,tol=0.001,\n",
    "               cache_size=200, class_weight=None,\n",
    "               verbose=False,max_iter= -1,\n",
    "               random_state=None)\n",
    "\n",
    "lgbm_c = LGBMClassifier(boosting_type='gbdt', class_weight=None, colsample_bytree=1.0,\n",
    "                        learning_rate=0.5, max_depth=7, min_child_samples=20,\n",
    "                        min_child_weight=0.001, min_split_gain=0.0, n_estimators=100,\n",
    "                        n_jobs=-1, num_leaves=500, objective='binary', random_state=None,\n",
    "                        reg_alpha=0.0, reg_lambda=0.0, silent=True, subsample=1.0,\n",
    "                        subsample_for_bin=200000, subsample_freq=0)\n",
    "\n",
    "xgc = XGBClassifier(base_score=0.5, booster='gbtree', colsample_bylevel=1,\n",
    "                    colsample_bytree=1, gamma=0, learning_rate=0.9, max_delta_step=0,\n",
    "                    max_depth = 7, min_child_weight=1, missing=None, n_estimators=100,\n",
    "                    n_jobs=1, nthread=None, objective='binary:logistic', random_state=0,\n",
    "                    reg_alpha=0, reg_lambda=1, scale_pos_weight=1, seed=None,\n",
    "                    silent=True, subsample=1)"
   ]
  },
  {
   "cell_type": "markdown",
   "metadata": {},
   "source": [
    "### Model performance metrics"
   ]
  },
  {
   "cell_type": "code",
   "execution_count": null,
   "metadata": {},
   "outputs": [],
   "source": [
    "from plotly.offline import plot\n",
    "import plotly.figure_factory as ff\n",
    "\n",
    "def model_report(model,training_x,testing_x,training_y,testing_y,name) :\n",
    "    model.fit(training_x,training_y)\n",
    "    predictions  = model.predict(testing_x)\n",
    "    accuracy     = accuracy_score(testing_y,predictions)\n",
    "    recallscore  = recall_score(testing_y,predictions)\n",
    "    precision    = precision_score(testing_y,predictions)\n",
    "    roc_auc      = roc_auc_score(testing_y,predictions)\n",
    "    f1score      = f1_score(testing_y,predictions) \n",
    "    kappa_metric = cohen_kappa_score(testing_y,predictions)\n",
    "    \n",
    "    df = pd.DataFrame({\"Model\"           : [name],\n",
    "                       \"Accuracy_score\"  : [accuracy],\n",
    "                       \"Recall_score\"    : [recallscore],\n",
    "                       \"Precision\"       : [precision],\n",
    "                       \"f1_score\"        : [f1score],\n",
    "                       \"Area_under_curve\": [roc_auc],\n",
    "                       \"Kappa_metric\"    : [kappa_metric],\n",
    "                      })\n",
    "    return df\n",
    "\n",
    "#outputs for every model\n",
    "model1 = model_report(logit,train_X_smote,test_X,train_Y_smote,test_Y,\n",
    "                      \"Logistic Regression\")\n",
    "\n",
    "model4 = model_report(dt_classifier,train_X_smote,test_X,train_Y_smote,test_Y,\n",
    "                      \"Decision Tree\")\n",
    "\n",
    "model5 = model_report(knn,train_X_smote,test_X,train_Y_smote,test_Y,\n",
    "                      \"KNN Classifier\")\n",
    "\n",
    "model6 = model_report(rfc,train_X_smote,test_X,train_Y_smote,test_Y,\n",
    "                      \"Random Forest Classifier\")\n",
    "\n",
    "model7 = model_report(gnb,train_X_smote,test_X,train_Y_smote,test_Y,\n",
    "                      \"Naive Bayes\")\n",
    "\n",
    "model8 = model_report(svc_lin,train_X_smote,test_X,train_Y_smote,test_Y,\n",
    "                      \"SVM Classifier Linear\")\n",
    "\n",
    "model9 = model_report(svc_rbf,train_X_smote,test_X,train_Y_smote,test_Y,\n",
    "                      \"SVM Classifier RBF\")\n",
    "\n",
    "model10 = model_report(lgbm_c,train_X_smote,test_X,train_Y_smote,test_Y,\n",
    "                      \"LGBM Classifier\")\n",
    "\n",
    "model11 = model_report(xgc,train_X_smote,test_X,train_Y_smote,test_Y,\n",
    "                      \"XGBoost Classifier\")\n",
    "\n",
    "#concat all models\n",
    "model_performances = pd.concat([model1,\n",
    "                                model4,model5,model6,\n",
    "                                model7,model8,model9,\n",
    "                                model10,model11],axis = 0).reset_index()\n",
    "\n",
    "model_performances = model_performances.drop(columns = \"index\",axis =1)\n",
    "\n",
    "table  = ff.create_table(np.round(model_performances,4))\n",
    "plt.plot(table)"
   ]
  },
  {
   "cell_type": "markdown",
   "metadata": {},
   "source": [
    "### Compare model metrics"
   ]
  },
  {
   "cell_type": "code",
   "execution_count": 41,
   "metadata": {},
   "outputs": [
    {
     "data": {
      "text/plain": [
       "'temp-plot.html'"
      ]
     },
     "execution_count": 41,
     "metadata": {},
     "output_type": "execute_result"
    }
   ],
   "source": [
    "def output_tracer(metric,color) :\n",
    "    tracer = go.Bar(y = model_performances[\"Model\"] ,\n",
    "                    x = model_performances[metric],\n",
    "                    orientation = \"h\",name = metric ,\n",
    "                    marker = dict(line = dict(width =.7),\n",
    "                                  color = color)\n",
    "                   )\n",
    "    return tracer\n",
    "\n",
    "layout = go.Layout(dict(title = \"Model performances\",\n",
    "                        plot_bgcolor  = \"rgb(243,243,243)\",\n",
    "                        paper_bgcolor = \"rgb(243,243,243)\",\n",
    "                        xaxis = dict(gridcolor = 'rgb(255, 255, 255)',\n",
    "                                     title = \"metric\",\n",
    "                                     zerolinewidth=1,\n",
    "                                     ticklen=5,gridwidth=2),\n",
    "                        yaxis = dict(gridcolor = 'rgb(255, 255, 255)',\n",
    "                                     zerolinewidth=1,ticklen=5,gridwidth=2),\n",
    "                        margin = dict(l = 250),\n",
    "                        height = 780\n",
    "                       )\n",
    "                  )\n",
    "\n",
    "\n",
    "trace1  = output_tracer(\"Accuracy_score\",\"#6699FF\")\n",
    "trace2  = output_tracer('Recall_score',\"red\")\n",
    "trace3  = output_tracer('Precision',\"#33CC99\")\n",
    "trace4  = output_tracer('f1_score',\"lightgrey\")\n",
    "trace5  = output_tracer('Kappa_metric',\"#FFCC99\")\n",
    "\n",
    "data = [trace1,trace2,trace3,trace4,trace5]\n",
    "fig = go.Figure(data=data,layout=layout)\n",
    "plot(fig)"
   ]
  },
  {
   "cell_type": "markdown",
   "metadata": {},
   "source": [
    "### Compare confusion matrices"
   ]
  },
  {
   "cell_type": "code",
   "execution_count": 44,
   "metadata": {},
   "outputs": [
    {
     "data": {
      "image/png": "[encoded data removed]",
      "text/plain": [
       "<Figure size 936x1080 with 18 Axes>"
      ]
     },
     "metadata": {},
     "output_type": "display_data"
    }
   ],
   "source": [
    "import matplotlib.pyplot as plt\n",
    "import itertools\n",
    "\n",
    "lst    = [logit,dt_classifier,knn,rfc,\n",
    "          gnb,svc_lin,svc_rbf,lgbm_c,xgc]\n",
    "\n",
    "length = len(lst)\n",
    "\n",
    "mods   = ['Logistic Regression',\n",
    "          'Decision Tree','KNN Classifier','Random Forest Classifier',\"Naive Bayes\",\n",
    "          'SVM Classifier Linear','SVM Classifier RBF', 'LGBM Classifier',\n",
    "          'XGBoost Classifier']\n",
    "\n",
    "fig = plt.figure(figsize=(13,15))\n",
    "fig.set_facecolor(\"#F3F3F3\")\n",
    "for i,j,k in itertools.zip_longest(lst,range(length),mods) :\n",
    "    plt.subplot(4,3,j+1)\n",
    "    predictions = i.predict(test_X)\n",
    "    conf_matrix = confusion_matrix(predictions,test_Y)\n",
    "    sns.heatmap(conf_matrix,annot=True,fmt = \"d\",square = True,\n",
    "                xticklabels=[\"not churn\",\"churn\"],\n",
    "                yticklabels=[\"not churn\",\"churn\"],\n",
    "                linewidths = 2,linecolor = \"w\",cmap = \"Set1\")\n",
    "    plt.title(k,color = \"b\")\n",
    "    plt.subplots_adjust(wspace = .3,hspace = .3)"
   ]
  },
  {
   "cell_type": "markdown",
   "metadata": {},
   "source": [
    "### Compare ROC Curves matrices"
   ]
  },
  {
   "cell_type": "code",
   "execution_count": 45,
   "metadata": {
    "scrolled": true
   },
   "outputs": [
    {
     "data": {
      "image/png": "[encoded data removed]",
      "text/plain": [
       "<Figure size 864x1152 with 9 Axes>"
      ]
     },
     "metadata": {},
     "output_type": "display_data"
    }
   ],
   "source": [
    "st    = [logit,dt_classifier,knn,rfc,\n",
    "          gnb,svc_lin,svc_rbf,lgbm_c,xgc]\n",
    "\n",
    "length = len(lst)\n",
    "\n",
    "mods   = ['Logistic Regression',\n",
    "          'Decision Tree','KNN Classifier','Random Forest Classifier',\"Naive Bayes\",\n",
    "          'SVM Classifier Linear','SVM Classifier RBF', 'LGBM Classifier',\n",
    "          'XGBoost Classifier']\n",
    "\n",
    "plt.style.use(\"dark_background\")\n",
    "fig = plt.figure(figsize=(12,16))\n",
    "fig.set_facecolor(\"#F3F3F3\")\n",
    "for i,j,k in itertools.zip_longest(lst,range(length),mods) :\n",
    "    qx = plt.subplot(4,3,j+1)\n",
    "    probabilities = i.predict_proba(test_X)\n",
    "    predictions   = i.predict(test_X)\n",
    "    fpr,tpr,thresholds = roc_curve(test_Y,probabilities[:,1])\n",
    "    plt.plot(fpr,tpr,linestyle = \"dotted\",\n",
    "             color = \"royalblue\",linewidth = 2,\n",
    "             label = \"AUC = \" + str(np.around(roc_auc_score(test_Y,predictions),3)))\n",
    "    plt.plot([0,1],[0,1],linestyle = \"dashed\",\n",
    "             color = \"orangered\",linewidth = 1.5)\n",
    "    plt.fill_between(fpr,tpr,alpha = .4)\n",
    "    plt.fill_between([0,1],[0,1],color = \"k\")\n",
    "    plt.legend(loc = \"lower right\",\n",
    "               prop = {\"size\" : 12})\n",
    "    qx.set_facecolor(\"k\")\n",
    "    plt.grid(True,alpha = .15)\n",
    "    plt.title(k,color = \"b\")\n",
    "    plt.xticks(np.arange(0,1,.3))\n",
    "    plt.yticks(np.arange(0,1,.3))"
   ]
  },
  {
   "cell_type": "markdown",
   "metadata": {},
   "source": [
    "### Conclusions and next steps"
   ]
  },
  {
   "cell_type": "markdown",
   "metadata": {},
   "source": [
    "* It would be interesting to try without using SMOTE\n",
    "* Once we figure out which algorithm seems to work best, we could try using GridSearch to find the best parameters\n",
    "* We could use k fold cross validation for a more robust solution"
   ]
  }
 ],
 "metadata": {
  "kernelspec": {
   "display_name": "Python 3",
   "language": "python",
   "name": "python3"
  },
  "language_info": {
   "codemirror_mode": {
    "name": "ipython",
    "version": 3
   },
   "file_extension": ".py",
   "mimetype": "text/x-python",
   "name": "python",
   "nbconvert_exporter": "python",
   "pygments_lexer": "ipython3",
   "version": "3.7.3"
  }
 },
 "nbformat": 4,
 "nbformat_minor": 2
}
